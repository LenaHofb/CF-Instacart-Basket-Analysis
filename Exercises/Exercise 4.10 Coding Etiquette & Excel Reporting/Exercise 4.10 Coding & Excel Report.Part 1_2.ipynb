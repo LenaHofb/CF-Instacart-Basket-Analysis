{
 "cells": [
  {
   "cell_type": "markdown",
   "id": "e2ee6910-c51d-4d60-93c9-5254e99f6654",
   "metadata": {},
   "source": [
    "# Exercise 4.10 Coding Etiquette & Excel Reporting_Part 1 /2"
   ]
  },
  {
   "cell_type": "markdown",
   "id": "3ab57b54-05fe-48e8-86df-a7fd41bc0d7a",
   "metadata": {},
   "source": [
    "1. Import libraries\n",
    "2. Handling PII/Data Privacy\n",
    "3. Regional segmentation of the data\n",
    "4. Excluding low-activity customers\n",
    "5. Customer profiling"
   ]
  },
  {
   "cell_type": "code",
   "execution_count": 7,
   "id": "3bb1c124-0b47-4ce0-87cb-0b9061b7c83b",
   "metadata": {},
   "outputs": [],
   "source": [
    "#Import Libraries\n",
    "import pandas as pd\n",
    "import numpy as np\n",
    "import os\n",
    "import matplotlib.pyplot as plt\n",
    "import seaborn as sns\n",
    "import scipy"
   ]
  },
  {
   "cell_type": "code",
   "execution_count": 27,
   "id": "d0b93174-cd6f-4ebf-ba98-726fc9d02757",
   "metadata": {},
   "outputs": [],
   "source": [
    "#Import Dataset\n",
    "path=r'C:\\Users\\north\\08-2024 Instacart Basket Analysis'\n",
    "cust_ordsmergefinal=pd.read_pickle(os.path.join(path, '02 Data','Prepared Data', 'custords_merge_final.pkl'))\n"
   ]
  },
  {
   "cell_type": "code",
   "execution_count": null,
   "id": "50d1409b-9118-42b3-a612-6b35d139144a",
   "metadata": {},
   "outputs": [],
   "source": [
    "cust_ordsmergefinal.columns"
   ]
  },
  {
   "cell_type": "code",
   "execution_count": null,
   "id": "72151e99-df31-443a-ab59-e5ef33f1d884",
   "metadata": {},
   "outputs": [],
   "source": [
    "# Group the data by region and income group\n",
    "region_income_group = cust_ordsmerge.groupby(['region', 'income_group']).size().reset_index(name='Count')\n",
    "\n",
    "# Create a grouped bar chart\n",
    "plt.figure(figsize=(10, 6))\n",
    "sns.barplot(data=region_income_group, x='region', y='Count', hue='income_group', palette='viridis')\n",
    "\n",
    "# Add title and labels\n",
    "plt.title('Income Group Distribution by Region')\n",
    "plt.xlabel('Region')\n",
    "plt.ylabel('Count of Customers')\n",
    "plt.legend(title='Income Group')\n",
    "\n",
    "# Save the plot to the specified path\n",
    "plt.tight_layout()\n",
    "plt.savefig(os.path.join(path, '04 Analysis', 'Visualizations', 'profiles_by_region.png'))\n",
    "# Show the plot\n",
    "plt.show()\n"
   ]
  },
  {
   "cell_type": "code",
   "execution_count": null,
   "id": "8c911ea1-d4d9-467e-a60e-e774e6c30898",
   "metadata": {},
   "outputs": [],
   "source": [
    "#Importing department  dataframe\n",
    "df_dept = pd.read_csv(os.path.join(path,'02 Data', 'Original Data', 'departments.csv'), index_col=False)"
   ]
  },
  {
   "cell_type": "code",
   "execution_count": null,
   "id": "1b73a5c2-60fc-4ce0-9e8f-691f19e94cdd",
   "metadata": {},
   "outputs": [],
   "source": [
    "df_dept"
   ]
  },
  {
   "cell_type": "code",
   "execution_count": null,
   "id": "5fa47020-e0b1-4af4-91d5-9f58e8edf1ab",
   "metadata": {},
   "outputs": [],
   "source": [
    "print(df_dept.columns)"
   ]
  },
  {
   "cell_type": "code",
   "execution_count": null,
   "id": "987b8aa7-3b63-48d4-9631-d34d25551659",
   "metadata": {},
   "outputs": [],
   "source": [
    "df_dept.dtypes"
   ]
  },
  {
   "cell_type": "code",
   "execution_count": null,
   "id": "9edd54e0-bc10-4ae2-bf2d-144accf6f79f",
   "metadata": {},
   "outputs": [],
   "source": [
    "dept_data = {\n",
    "    'department_id': range(1,22),\n",
    "    'department': ['frozen', 'other', 'bakery', 'produce', 'alcohol', 'international', 'beverages', 'pets', \n",
    "                   'dry goods pasta', 'bulk', 'personal care', 'meat seafood', 'pantry', 'breakfast', \n",
    "                   'canned goods', 'dairy eggs', 'household', 'babies', 'snacks', 'deli', 'missing']\n",
    "}\n",
    "\n",
    "dept_vertical = pd.DataFrame(dept_data)\n",
    "\n",
    "# Display the DataFrame\n",
    "print(dept_vertical)"
   ]
  },
  {
   "cell_type": "code",
   "execution_count": null,
   "id": "7d3dd178-b8fb-46b0-8030-7f68e009b2fc",
   "metadata": {},
   "outputs": [],
   "source": [
    "dept_vertical.dtypes"
   ]
  },
  {
   "cell_type": "code",
   "execution_count": null,
   "id": "475f47c9-f761-4d9a-ae8d-939a67db3f73",
   "metadata": {},
   "outputs": [],
   "source": [
    "# Changing department_id from int64 to str for merge\n",
    "dept_vertical['department_id']=dept_vertical['department_id'].astype('int64')"
   ]
  },
  {
   "cell_type": "code",
   "execution_count": null,
   "id": "a4333c1f-04a9-466b-a9d8-fe32af2d7341",
   "metadata": {},
   "outputs": [],
   "source": [
    "cust_ordsmergefinal.columns.to_list()"
   ]
  },
  {
   "cell_type": "code",
   "execution_count": null,
   "id": "29f13614-4900-43ad-98e7-f1a10ba053af",
   "metadata": {},
   "outputs": [],
   "source": [
    "# Merging dept_vertical to cust_ordsmerge via department_id\n",
    "df_final=cust_ordsmergefinal.merge(dept_vertical,on='department_id',indicator=True)"
   ]
  },
  {
   "cell_type": "code",
   "execution_count": null,
   "id": "bfd9468d-1b49-4016-9cdb-2d3f4b767f83",
   "metadata": {},
   "outputs": [],
   "source": [
    "df_final['department'].value_counts()"
   ]
  },
  {
   "cell_type": "code",
   "execution_count": null,
   "id": "f38df9cb-ec28-4fce-98bc-76795ba6a952",
   "metadata": {},
   "outputs": [],
   "source": [
    "#Create department bar charts\n",
    "\n",
    "# Get the value counts for departments\n",
    "department_counts = df_final['department'].value_counts()\n",
    "\n",
    "# Create a bar chart using seaborn\n",
    "plt.figure(figsize=(10, 6))\n",
    "sns.barplot(x=department_counts.index, y=department_counts.values, palette='tab20')\n",
    "\n",
    "# Add title and labels\n",
    "plt.title('Department Distribution')\n",
    "plt.xlabel('Department')\n",
    "plt.ylabel('Count of Orders')\n",
    "\n",
    "# Rotate the x-axis labels for better readability\n",
    "plt.xticks(rotation=45)\n",
    "\n",
    "# Save the plot to the specified path\n",
    "plt.tight_layout()  # Adjust the plot to ensure everything fits\n",
    "plt.savefig(os.path.join(path, '04 Analysis', 'Visualizations', 'bar_department_product.png'))\n",
    "\n",
    "# Show the plot\n",
    "plt.show()\n"
   ]
  },
  {
   "cell_type": "code",
   "execution_count": null,
   "id": "f95c953d-9e07-4f64-9cff-1c8c397dd525",
   "metadata": {},
   "outputs": [],
   "source": [
    "# Creating crosstab to compare age_group profile with departments\n",
    "age_department_comparison=pd.crosstab(df_final['age_group'],df_final['department'],dropna=False)"
   ]
  },
  {
   "cell_type": "code",
   "execution_count": null,
   "id": "b827f484-2611-4f33-8daf-d35e8a12d66c",
   "metadata": {},
   "outputs": [],
   "source": [
    "age_department_comparison"
   ]
  },
  {
   "cell_type": "code",
   "execution_count": null,
   "id": "761763b5-3e4c-4799-9f79-c03c481b8e8a",
   "metadata": {},
   "outputs": [],
   "source": [
    "# Create a bar chart\n",
    "plt.figure(figsize=(18, 12))\n",
    "age_department_comparison_bar = age_department_comparison.plot(\n",
    "    kind='barh',\n",
    "    figsize=(14, 10),\n",
    "    cmap='tab20')\n",
    "\n",
    "# Set chart labels and title\n",
    "plt.title('Age Groups by Department (Stacked)', fontsize=16)\n",
    "plt.xlabel('Count', fontsize=12)\n",
    "plt.ylabel('Age Group', fontsize=12)\n",
    "plt.xticks(rotation=45)\n",
    "\n",
    "# Move legend outside of plot\n",
    "plt.legend(title='Department', bbox_to_anchor=(1.05, 1), loc='upper left', fontsize=12, title_fontsize=14)\n",
    "\n",
    "# Adjust layout to make room for legend\n",
    "plt.tight_layout(rect=[0, 0, 0.85, 1])\n",
    "\n",
    "plt.savefig(os.path.join(path, '04 Analysis', 'Visualizations', 'age_department_comparison_bar.png'))\n",
    "\n",
    "# Show the plot\n",
    "plt.tight_layout()\n",
    "plt.show()\n"
   ]
  },
  {
   "cell_type": "code",
   "execution_count": null,
   "id": "c15e91ac-12cf-49be-8e91-f27a3bd5c0dc",
   "metadata": {},
   "outputs": [],
   "source": [
    "# Creating crosstab to compare income_group profile with departments\n",
    "income_group_department_comparison=pd.crosstab(df_final['income_group'],df_final['department'],dropna=False)"
   ]
  },
  {
   "cell_type": "code",
   "execution_count": null,
   "id": "61ef5d8b-9313-4f28-ac8c-1499ae08d249",
   "metadata": {},
   "outputs": [],
   "source": [
    "income_group_department_comparison"
   ]
  },
  {
   "cell_type": "code",
   "execution_count": null,
   "id": "6b2a0b24-a4ed-4fa7-8d3b-beabd3731517",
   "metadata": {},
   "outputs": [],
   "source": [
    "# Create a bar chart with custom colors\n",
    "plt.figure(figsize=(18, 12))\n",
    "income_group_department_comparison_bar = income_group_department_comparison.plot(\n",
    "    kind='barh',\n",
    "    figsize=(14, 10),\n",
    "    cmap='tab20')\n",
    "\n",
    "# Add title and labels\n",
    "plt.title('Income Groups by Department')\n",
    "plt.xlabel('Count')\n",
    "plt.ylabel('Income Group')\n",
    "\n",
    "# Adjust layout to make room for legend\n",
    "plt.tight_layout(rect=[0, 0, 0.85, 1])\n",
    "\n",
    "# Move legend outside of plot\n",
    "plt.legend(title='Department', bbox_to_anchor=(1.05, 1), loc='upper left', fontsize=12, title_fontsize=14)\n",
    "\n",
    "# Save the plot to the specified path\n",
    "plt.tight_layout()  # Adjust the plot to ensure everything fits\n",
    "plt.savefig(os.path.join(path, '04 Analysis', 'Visualizations', 'income_department_comparison_bar.png'))\n",
    "\n",
    "\n",
    "# Show the plot\n",
    "plt.show()\n"
   ]
  },
  {
   "cell_type": "code",
   "execution_count": null,
   "id": "63753a0f-2a4b-4242-b6d5-67401502a75f",
   "metadata": {},
   "outputs": [],
   "source": [
    "# Creating crosstab to compare regions with departments\n",
    "region_department_comparison=pd.crosstab(df_final['region'],df_final['department'],dropna=False)"
   ]
  },
  {
   "cell_type": "code",
   "execution_count": null,
   "id": "af9780c7-7dd9-4b2c-b16c-e9932e9cf76c",
   "metadata": {},
   "outputs": [],
   "source": [
    "region_department_comparison"
   ]
  },
  {
   "cell_type": "code",
   "execution_count": 3,
   "id": "00f79008-c692-4ad1-91b4-75f8ba958f86",
   "metadata": {},
   "outputs": [
    {
     "ename": "NameError",
     "evalue": "name 'plt' is not defined",
     "output_type": "error",
     "traceback": [
      "\u001b[1;31m---------------------------------------------------------------------------\u001b[0m",
      "\u001b[1;31mNameError\u001b[0m                                 Traceback (most recent call last)",
      "Cell \u001b[1;32mIn[3], line 1\u001b[0m\n\u001b[1;32m----> 1\u001b[0m plt\u001b[38;5;241m.\u001b[39mfigure(figsize\u001b[38;5;241m=\u001b[39m(\u001b[38;5;241m20\u001b[39m, \u001b[38;5;241m25\u001b[39m))\n\u001b[0;32m      2\u001b[0m region_department_comparison_bar \u001b[38;5;241m=\u001b[39m region_department_comparison\u001b[38;5;241m.\u001b[39mplot(kind\u001b[38;5;241m=\u001b[39m\u001b[38;5;124m'\u001b[39m\u001b[38;5;124mbarh\u001b[39m\u001b[38;5;124m'\u001b[39m, figsize\u001b[38;5;241m=\u001b[39m(\u001b[38;5;241m20\u001b[39m, \u001b[38;5;241m25\u001b[39m), colormap\u001b[38;5;241m=\u001b[39m\u001b[38;5;124m'\u001b[39m\u001b[38;5;124mtab20\u001b[39m\u001b[38;5;124m'\u001b[39m, rot\u001b[38;5;241m=\u001b[39m\u001b[38;5;241m0\u001b[39m)\n\u001b[0;32m      4\u001b[0m \u001b[38;5;66;03m# Add title and labels with larger font size\u001b[39;00m\n",
      "\u001b[1;31mNameError\u001b[0m: name 'plt' is not defined"
     ]
    }
   ],
   "source": [
    "plt.figure(figsize=(20, 25))\n",
    "region_department_comparison_bar = region_department_comparison.plot(kind='barh', figsize=(20, 25), colormap='tab20', rot=0)\n",
    "\n",
    "# Add title and labels with larger font size\n",
    "plt.title('Regions By Department', fontsize=16)\n",
    "plt.xlabel('Count', fontsize=14)\n",
    "plt.ylabel('Regions', fontsize=14)\n",
    "\n",
    "# Increase font size for ticks\n",
    "plt.xticks(fontsize=12)\n",
    "plt.yticks(fontsize=12)\n",
    "\n",
    "# Move legend outside of plot\n",
    "plt.legend(title='Department', bbox_to_anchor=(1.05, 1), loc='upper left', fontsize=12, title_fontsize=14)\n",
    "\n",
    "# Adjust layout to make room for legend\n",
    "plt.tight_layout(rect=[0, 0, 0.85, 1])\n",
    "\n",
    "# Save the plot to the specified path\n",
    "plt.tight_layout()  # Adjust the plot to ensure everything fits\n",
    "plt.savefig(os.path.join(path, '04 Analysis', 'Visualizations', 'region_department_comparison.png'))\n",
    "\n",
    "plt.show()"
   ]
  },
  {
   "cell_type": "markdown",
   "id": "9c4a559a-1b62-4e41-9854-2aede7e444b4",
   "metadata": {},
   "source": [
    "###**Other visualizations**"
   ]
  },
  {
   "cell_type": "code",
   "execution_count": 110,
   "id": "78fe1505-e03f-4719-80ec-bedd054ab3b4",
   "metadata": {},
   "outputs": [
    {
     "data": {
      "image/png": "[encoded data removed]",
      "text/plain": [
       "<Figure size 800x800 with 1 Axes>"
      ]
     },
     "metadata": {},
     "output_type": "display_data"
    }
   ],
   "source": [
    "# Creating Pie Chart of customer loyalty breakdown\n",
    "loyalty_customer_pie= df_final['loyalty_flag'].value_counts()\n",
    "plt.figure(figsize=(8,8))\n",
    "loyalty_customer_comparison_pie=loyalty_customer_pie.plot.pie(autopct='%.1f%%',wedgeprops={'edgecolor':'black'})\n",
    "plt.title('Loyalty Customer Percentage Comparison')\n",
    "plt.ylabel('')\n",
    "plt.tight_layout()\n",
    "\n",
    "plt.savefig(os.path.join(path, '04 Analysis', 'Visualizations', 'loyalty_percentage.png'))\n",
    "plt.show()"
   ]
  }
 ],
 "metadata": {
  "kernelspec": {
   "display_name": "Python 3 (ipykernel)",
   "language": "python",
   "name": "python3"
  },
  "language_info": {
   "codemirror_mode": {
    "name": "ipython",
    "version": 3
   },
   "file_extension": ".py",
   "mimetype": "text/x-python",
   "name": "python",
   "nbconvert_exporter": "python",
   "pygments_lexer": "ipython3",
   "version": "3.12.4"
  }
 },
 "nbformat": 4,
 "nbformat_minor": 5
}
