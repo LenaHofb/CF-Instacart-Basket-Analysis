{
 "cells": [
  {
   "cell_type": "markdown",
   "id": "e2ee6910-c51d-4d60-93c9-5254e99f6654",
   "metadata": {},
   "source": [
    "# Exercise 4.10 Coding Etiquette & Excel Reporting_Part 1 / 1"
   ]
  },
  {
   "cell_type": "markdown",
   "id": "3ab57b54-05fe-48e8-86df-a7fd41bc0d7a",
   "metadata": {},
   "source": [
    "1. Import libraries\n",
    "2. Handling PII/Data Privacy\n",
    "3. Regional segmentation of the data\n",
    "4. Excluding low-activity customers\n",
    "5. Customer profiling"
   ]
  },
  {
   "cell_type": "code",
   "execution_count": 3,
   "id": "3bb1c124-0b47-4ce0-87cb-0b9061b7c83b",
   "metadata": {},
   "outputs": [],
   "source": [
    "#Import Libraries\n",
    "import pandas as pd\n",
    "import numpy as np\n",
    "import os\n",
    "import matplotlib.pyplot as plt\n",
    "import seaborn as sns\n",
    "import scipy"
   ]
  },
  {
   "cell_type": "code",
   "execution_count": 4,
   "id": "d0b93174-cd6f-4ebf-ba98-726fc9d02757",
   "metadata": {},
   "outputs": [],
   "source": [
    "#Import Dataset\n",
    "path=r'C:\\Users\\north\\08-2024 Instacart Basket Analysis'\n",
    "cust_ordsmerge=pd.read_pickle(os.path.join(path, '02 Data','Prepared Data', 'customer_orders.merged.pkl'))\n"
   ]
  },
  {
   "cell_type": "markdown",
   "id": "f413a071-56f3-44f6-be1d-a1ed3f9704d6",
   "metadata": {},
   "source": [
    "**02. Handling PII/Data Privacy**"
   ]
  },
  {
   "cell_type": "code",
   "execution_count": 6,
   "id": "50d1409b-9118-42b3-a612-6b35d139144a",
   "metadata": {},
   "outputs": [
    {
     "data": {
      "text/plain": [
       "Index(['user_id', 'gender', 'state', 'age', 'date_joined', 'num_dependents',\n",
       "       'family_status', 'income', 'order_id', 'order_number', 'order_weekday',\n",
       "       'order_hour_of_day', 'days_since_prior_order', 'first_order',\n",
       "       'product_id', 'add_to_cart_order', 'reordered', 'product_name',\n",
       "       'aisle_id', 'department_id', 'prices', 'merge_flag', 'busiest_days',\n",
       "       'busiest_period_of_day', 'max_order', 'loyalty_flag', 'user_spending',\n",
       "       'spending_flag', 'order_frequency', 'frequency_flag'],\n",
       "      dtype='object')"
      ]
     },
     "execution_count": 6,
     "metadata": {},
     "output_type": "execute_result"
    }
   ],
   "source": [
    "cust_ordsmerge.columns"
   ]
  },
  {
   "cell_type": "markdown",
   "id": "c4e2408d-186f-4008-8e7b-e7de6beb64d0",
   "metadata": {},
   "source": [
    "**Note**: In Exercise 4.9 I already deleted the columns 'first_name' and 'family_name'. As these two are already deleted i don´t see the need to delete other columns in this dataframe."
   ]
  },
  {
   "cell_type": "markdown",
   "id": "f35d74bf-c713-4591-a10f-158bb292a91b",
   "metadata": {},
   "source": [
    "**03. Regional segmentation of the data**"
   ]
  },
  {
   "cell_type": "code",
   "execution_count": 9,
   "id": "fa4cec21-96a4-4bbb-96ee-f13af79df520",
   "metadata": {},
   "outputs": [],
   "source": [
    "# Create a mapping of states to regions\n",
    "region_mapping = {\n",
    "    'Connecticut': 'Northeast', 'Maine': 'Northeast', 'Massachusetts': 'Northeast',\n",
    "    'New Hampshire': 'Northeast', 'Rhode Island': 'Northeast', 'Vermont': 'Northeast',\n",
    "    'New Jersey': 'Northeast', 'New York': 'Northeast', 'Pennsylvania': 'Northeast',\n",
    "    'Illinois': 'Midwest', 'Indiana': 'Midwest', 'Michigan': 'Midwest',\n",
    "    'Ohio': 'Midwest', 'Wisconsin': 'Midwest', 'Iowa': 'Midwest', 'Kansas': 'Midwest',\n",
    "    'Minnesota': 'Midwest', 'Missouri': 'Midwest', 'Nebraska': 'Midwest',\n",
    "    'North Dakota': 'Midwest', 'South Dakota': 'Midwest',\n",
    "    'Delaware': 'South', 'Florida': 'South', 'Georgia': 'South', 'Maryland': 'South',\n",
    "    'North Carolina': 'South', 'South Carolina': 'South', 'Virginia': 'South',\n",
    "    'Washington, D.C.': 'South', 'West Virginia': 'South', 'Alabama': 'South',\n",
    "    'Kentucky': 'South', 'Mississippi': 'South', 'Tennessee': 'South', 'Arkansas': 'South',\n",
    "    'Louisiana': 'South', 'Oklahoma': 'South', 'Texas': 'South', 'District of Columbia': 'South',\n",
    "    'Arizona': 'West', 'Colorado': 'West', 'Idaho': 'West', 'Montana': 'West',\n",
    "    'Nevada': 'West', 'New Mexico': 'West', 'Utah': 'West', 'Wyoming': 'West',\n",
    "    'Alaska': 'West', 'California': 'West', 'Hawaii': 'West', 'Oregon': 'West',\n",
    "    'Washington': 'West'\n",
    "}"
   ]
  },
  {
   "cell_type": "code",
   "execution_count": 10,
   "id": "50b84cf8-0c36-4a42-b7bb-427799aa36f3",
   "metadata": {},
   "outputs": [],
   "source": [
    "# Create the \"region\" column\n",
    "cust_ordsmerge['region'] = cust_ordsmerge['state'].map(region_mapping)"
   ]
  },
  {
   "cell_type": "code",
   "execution_count": 11,
   "id": "aab345d2-5a4a-4f1e-bab3-efcfc877aea5",
   "metadata": {},
   "outputs": [
    {
     "data": {
      "text/html": [
       "<div>\n",
       "<style scoped>\n",
       "    .dataframe tbody tr th:only-of-type {\n",
       "        vertical-align: middle;\n",
       "    }\n",
       "\n",
       "    .dataframe tbody tr th {\n",
       "        vertical-align: top;\n",
       "    }\n",
       "\n",
       "    .dataframe thead th {\n",
       "        text-align: right;\n",
       "    }\n",
       "</style>\n",
       "<table border=\"1\" class=\"dataframe\">\n",
       "  <thead>\n",
       "    <tr style=\"text-align: right;\">\n",
       "      <th></th>\n",
       "      <th>user_id</th>\n",
       "      <th>gender</th>\n",
       "      <th>state</th>\n",
       "      <th>age</th>\n",
       "      <th>date_joined</th>\n",
       "      <th>num_dependents</th>\n",
       "      <th>family_status</th>\n",
       "      <th>income</th>\n",
       "      <th>order_id</th>\n",
       "      <th>order_number</th>\n",
       "      <th>...</th>\n",
       "      <th>merge_flag</th>\n",
       "      <th>busiest_days</th>\n",
       "      <th>busiest_period_of_day</th>\n",
       "      <th>max_order</th>\n",
       "      <th>loyalty_flag</th>\n",
       "      <th>user_spending</th>\n",
       "      <th>spending_flag</th>\n",
       "      <th>order_frequency</th>\n",
       "      <th>frequency_flag</th>\n",
       "      <th>region</th>\n",
       "    </tr>\n",
       "  </thead>\n",
       "  <tbody>\n",
       "    <tr>\n",
       "      <th>0</th>\n",
       "      <td>26711</td>\n",
       "      <td>Female</td>\n",
       "      <td>Missouri</td>\n",
       "      <td>48</td>\n",
       "      <td>2017-01-01</td>\n",
       "      <td>3</td>\n",
       "      <td>married</td>\n",
       "      <td>165665</td>\n",
       "      <td>518967</td>\n",
       "      <td>1</td>\n",
       "      <td>...</td>\n",
       "      <td>both</td>\n",
       "      <td>Regular days</td>\n",
       "      <td>Average orders</td>\n",
       "      <td>8</td>\n",
       "      <td>New customer</td>\n",
       "      <td>7.988889</td>\n",
       "      <td>Low Spender</td>\n",
       "      <td>19.0</td>\n",
       "      <td>Regular customer</td>\n",
       "      <td>Midwest</td>\n",
       "    </tr>\n",
       "    <tr>\n",
       "      <th>1</th>\n",
       "      <td>26711</td>\n",
       "      <td>Female</td>\n",
       "      <td>Missouri</td>\n",
       "      <td>48</td>\n",
       "      <td>2017-01-01</td>\n",
       "      <td>3</td>\n",
       "      <td>married</td>\n",
       "      <td>165665</td>\n",
       "      <td>423547</td>\n",
       "      <td>2</td>\n",
       "      <td>...</td>\n",
       "      <td>both</td>\n",
       "      <td>Regular days</td>\n",
       "      <td>Average orders</td>\n",
       "      <td>8</td>\n",
       "      <td>New customer</td>\n",
       "      <td>7.988889</td>\n",
       "      <td>Low Spender</td>\n",
       "      <td>19.0</td>\n",
       "      <td>Regular customer</td>\n",
       "      <td>Midwest</td>\n",
       "    </tr>\n",
       "    <tr>\n",
       "      <th>2</th>\n",
       "      <td>26711</td>\n",
       "      <td>Female</td>\n",
       "      <td>Missouri</td>\n",
       "      <td>48</td>\n",
       "      <td>2017-01-01</td>\n",
       "      <td>3</td>\n",
       "      <td>married</td>\n",
       "      <td>165665</td>\n",
       "      <td>2524893</td>\n",
       "      <td>3</td>\n",
       "      <td>...</td>\n",
       "      <td>both</td>\n",
       "      <td>Slowest days</td>\n",
       "      <td>Average orders</td>\n",
       "      <td>8</td>\n",
       "      <td>New customer</td>\n",
       "      <td>7.988889</td>\n",
       "      <td>Low Spender</td>\n",
       "      <td>19.0</td>\n",
       "      <td>Regular customer</td>\n",
       "      <td>Midwest</td>\n",
       "    </tr>\n",
       "    <tr>\n",
       "      <th>3</th>\n",
       "      <td>26711</td>\n",
       "      <td>Female</td>\n",
       "      <td>Missouri</td>\n",
       "      <td>48</td>\n",
       "      <td>2017-01-01</td>\n",
       "      <td>3</td>\n",
       "      <td>married</td>\n",
       "      <td>165665</td>\n",
       "      <td>2524893</td>\n",
       "      <td>3</td>\n",
       "      <td>...</td>\n",
       "      <td>both</td>\n",
       "      <td>Slowest days</td>\n",
       "      <td>Average orders</td>\n",
       "      <td>8</td>\n",
       "      <td>New customer</td>\n",
       "      <td>7.988889</td>\n",
       "      <td>Low Spender</td>\n",
       "      <td>19.0</td>\n",
       "      <td>Regular customer</td>\n",
       "      <td>Midwest</td>\n",
       "    </tr>\n",
       "    <tr>\n",
       "      <th>4</th>\n",
       "      <td>26711</td>\n",
       "      <td>Female</td>\n",
       "      <td>Missouri</td>\n",
       "      <td>48</td>\n",
       "      <td>2017-01-01</td>\n",
       "      <td>3</td>\n",
       "      <td>married</td>\n",
       "      <td>165665</td>\n",
       "      <td>2524893</td>\n",
       "      <td>3</td>\n",
       "      <td>...</td>\n",
       "      <td>both</td>\n",
       "      <td>Slowest days</td>\n",
       "      <td>Average orders</td>\n",
       "      <td>8</td>\n",
       "      <td>New customer</td>\n",
       "      <td>7.988889</td>\n",
       "      <td>Low Spender</td>\n",
       "      <td>19.0</td>\n",
       "      <td>Regular customer</td>\n",
       "      <td>Midwest</td>\n",
       "    </tr>\n",
       "  </tbody>\n",
       "</table>\n",
       "<p>5 rows × 31 columns</p>\n",
       "</div>"
      ],
      "text/plain": [
       "   user_id  gender     state  age date_joined  num_dependents family_status  \\\n",
       "0    26711  Female  Missouri   48  2017-01-01               3       married   \n",
       "1    26711  Female  Missouri   48  2017-01-01               3       married   \n",
       "2    26711  Female  Missouri   48  2017-01-01               3       married   \n",
       "3    26711  Female  Missouri   48  2017-01-01               3       married   \n",
       "4    26711  Female  Missouri   48  2017-01-01               3       married   \n",
       "\n",
       "   income  order_id  order_number  ...  merge_flag  busiest_days  \\\n",
       "0  165665    518967             1  ...        both  Regular days   \n",
       "1  165665    423547             2  ...        both  Regular days   \n",
       "2  165665   2524893             3  ...        both  Slowest days   \n",
       "3  165665   2524893             3  ...        both  Slowest days   \n",
       "4  165665   2524893             3  ...        both  Slowest days   \n",
       "\n",
       "   busiest_period_of_day max_order  loyalty_flag  user_spending  \\\n",
       "0         Average orders         8  New customer       7.988889   \n",
       "1         Average orders         8  New customer       7.988889   \n",
       "2         Average orders         8  New customer       7.988889   \n",
       "3         Average orders         8  New customer       7.988889   \n",
       "4         Average orders         8  New customer       7.988889   \n",
       "\n",
       "   spending_flag order_frequency    frequency_flag   region  \n",
       "0    Low Spender            19.0  Regular customer  Midwest  \n",
       "1    Low Spender            19.0  Regular customer  Midwest  \n",
       "2    Low Spender            19.0  Regular customer  Midwest  \n",
       "3    Low Spender            19.0  Regular customer  Midwest  \n",
       "4    Low Spender            19.0  Regular customer  Midwest  \n",
       "\n",
       "[5 rows x 31 columns]"
      ]
     },
     "execution_count": 11,
     "metadata": {},
     "output_type": "execute_result"
    }
   ],
   "source": [
    "# Checking the dataframe\n",
    "cust_ordsmerge.head(5)"
   ]
  },
  {
   "cell_type": "code",
   "execution_count": 12,
   "id": "82c39e6d-c62d-4c6c-a3ab-a00667652fe1",
   "metadata": {},
   "outputs": [],
   "source": [
    "# Analyze spending habits by region\n",
    "# Crosstab for spending habits by region\n",
    "spending_by_region = pd.crosstab(cust_ordsmerge['region'], cust_ordsmerge['spending_flag'], dropna=False)"
   ]
  },
  {
   "cell_type": "code",
   "execution_count": 13,
   "id": "97b81cac-5de3-441f-8d17-7696527c9da1",
   "metadata": {},
   "outputs": [
    {
     "name": "stdout",
     "output_type": "stream",
     "text": [
      "spending_flag  High Spender  Low Spender\n",
      "region                                  \n",
      "Midwest               29265      7568060\n",
      "Northeast             18642      5704094\n",
      "South                 40579     10751306\n",
      "West                  31242      8261671\n"
     ]
    }
   ],
   "source": [
    "# Display the result\n",
    "print(spending_by_region)"
   ]
  },
  {
   "cell_type": "code",
   "execution_count": 14,
   "id": "e8e8b16c-560a-4605-a6dd-53bfc0824bc4",
   "metadata": {},
   "outputs": [
    {
     "data": {
      "image/png": "[encoded data removed]",
      "text/plain": [
       "<Figure size 640x480 with 1 Axes>"
      ]
     },
     "metadata": {},
     "output_type": "display_data"
    }
   ],
   "source": [
    "#Bar graph of the crosstab\n",
    "bar_regional_spending_habits = spending_by_region.plot.bar(color=['blue','green'])"
   ]
  },
  {
   "cell_type": "markdown",
   "id": "c751be3b-c5a0-47ff-9a19-a494204049e0",
   "metadata": {},
   "source": [
    "**Answer:** The bar chart compares the number of High Spender and Low Spender customers across four regions: Midwest, Northeast, South, and West. Customer base primarily consist of Low spenders. Regional Differences: The South region has the highest customer engagement in terms of spending, while the Northeast has the lowest. Customer base primarily consist of Low spenders"
   ]
  },
  {
   "cell_type": "code",
   "execution_count": 16,
   "id": "25e9afd9-b890-4e61-91b2-cfc273f3ecbb",
   "metadata": {},
   "outputs": [],
   "source": [
    "bar_regional_spending_habits.figure.savefig(os.path.join(path, '04 Analysis','Visualizations', 'bar_region_based_spending.png'))"
   ]
  },
  {
   "cell_type": "markdown",
   "id": "dd2e22a9-6e1b-4876-9cd3-d73448968cdb",
   "metadata": {},
   "source": [
    "**04. Excluding low-activity customers**"
   ]
  },
  {
   "cell_type": "code",
   "execution_count": 18,
   "id": "1ff9134f-4763-420d-9453-3e9ff61b8f19",
   "metadata": {},
   "outputs": [],
   "source": [
    "#Create an exclusion flag for customers with fewer than 5 orders\n",
    "cust_ordsmerge['exclusion_flag'] = np.where(cust_ordsmerge['max_order'] < 5, 'Exclude', 'Include')"
   ]
  },
  {
   "cell_type": "code",
   "execution_count": 19,
   "id": "45d27cf1-6aea-4031-819a-15ee33332fd8",
   "metadata": {},
   "outputs": [],
   "source": [
    "#Filter the data to exclude low-activity customers\n",
    "filtered_custordsmerge = cust_ordsmerge[cust_ordsmerge['exclusion_flag'] == 'Include'].copy()"
   ]
  },
  {
   "cell_type": "code",
   "execution_count": 20,
   "id": "fe9475ab-21e3-4fce-b469-4509a4348733",
   "metadata": {},
   "outputs": [
    {
     "name": "stdout",
     "output_type": "stream",
     "text": [
      "   max_order exclusion_flag\n",
      "0          8        Include\n",
      "1          8        Include\n",
      "2          8        Include\n",
      "3          8        Include\n",
      "4          8        Include\n"
     ]
    }
   ],
   "source": [
    "# Display the result\n",
    "print(filtered_custordsmerge[['max_order', 'exclusion_flag']].head())"
   ]
  },
  {
   "cell_type": "code",
   "execution_count": 21,
   "id": "877d32fb-a357-4ca0-babf-a1b16f6a4355",
   "metadata": {},
   "outputs": [],
   "source": [
    "#Export the filtered data to a pkl file\n",
    "filtered_custordsmerge.to_pickle(os.path.join(path, '02 Data','Prepared Data', 'filtered_lowactive_customer.pkl'))"
   ]
  },
  {
   "cell_type": "markdown",
   "id": "f3623d56-2b4d-4ab9-9488-cb656aea1b6a",
   "metadata": {},
   "source": [
    "**05. Customer profiling based on age, income, certain goods in the “department_id” column, and number of dependents**"
   ]
  },
  {
   "cell_type": "markdown",
   "id": "a5562f89-2db1-4676-aae2-d19cdb3699aa",
   "metadata": {},
   "source": [
    "Define Customer Profiles\n",
    "\n",
    "**Single Adult**\n",
    "Age: 18-24;\n",
    "Income: Moderate to High;\n",
    "Dependents: 0;\n",
    "Shopping Preferences: Prefers \"Alcohol,\" \"Snacks,\" \"Frozen,\" etc.;\n",
    "Shopping Time: Late evening, weekends.\n",
    "\n",
    "\n",
    "**Young Parent**\n",
    "Age: 25-40;\n",
    "Income: Moderate;\n",
    "Dependents: 1-3;\n",
    "Shopping Preferences: Prefers \"Babies,\" \"Dairy,\" \"Cereal,\" etc.;\n",
    "Shopping Time: Morning, weekends.\n",
    "\n",
    "**Senior:**\n",
    "Age: 60+;\n",
    "Income: Moderate to Low;\n",
    "Dependents: 0 or 1;\n",
    "Shopping Preferences: Prefers \"Health,\" \"Produce,\" \"Bakery,\" etc.;\n",
    "Shopping Time: Weekdays, early morning."
   ]
  },
  {
   "cell_type": "code",
   "execution_count": 24,
   "id": "7e08bcdd-da86-44da-8016-631669949151",
   "metadata": {},
   "outputs": [],
   "source": [
    "# Optimized customer profiling function\n",
    "def assign_customer_profile(row):\n",
    "    if (18 <= row['age'] <= 24) and (row['income'] >= 40000) and (row['num_dependents'] == 0):\n",
    "        if row['department_id'] in [5, 19, 11]:\n",
    "            return 'Single Adult'\n",
    "    elif (25 <= row['age'] <= 40) and (row['income'] >= 40000 and row['income'] <= 75000) and (1 <= row['num_dependents'] <= 3):\n",
    "        if row['department_id'] in [18, 16, 8]:\n",
    "            return 'Young Parent'\n",
    "    elif (row['age'] >= 60) and (row['income'] <= 40000):\n",
    "        if row['department_id'] in [7, 4, 3]:\n",
    "            return 'Senior'\n",
    "    return 'Other'"
   ]
  },
  {
   "cell_type": "code",
   "execution_count": 25,
   "id": "55d64d8d-8150-42e9-ac45-d1e4f6e34f86",
   "metadata": {},
   "outputs": [],
   "source": [
    "# Apply the profiling function\n",
    "cust_ordsmerge['customer_profile'] = cust_ordsmerge.apply(assign_customer_profile, axis=1)"
   ]
  },
  {
   "cell_type": "code",
   "execution_count": 26,
   "id": "4b087d7e-5545-4779-9b1c-81a129e13548",
   "metadata": {},
   "outputs": [
    {
     "data": {
      "text/html": [
       "<div>\n",
       "<style scoped>\n",
       "    .dataframe tbody tr th:only-of-type {\n",
       "        vertical-align: middle;\n",
       "    }\n",
       "\n",
       "    .dataframe tbody tr th {\n",
       "        vertical-align: top;\n",
       "    }\n",
       "\n",
       "    .dataframe thead th {\n",
       "        text-align: right;\n",
       "    }\n",
       "</style>\n",
       "<table border=\"1\" class=\"dataframe\">\n",
       "  <thead>\n",
       "    <tr style=\"text-align: right;\">\n",
       "      <th></th>\n",
       "      <th>user_id</th>\n",
       "      <th>gender</th>\n",
       "      <th>state</th>\n",
       "      <th>age</th>\n",
       "      <th>date_joined</th>\n",
       "      <th>num_dependents</th>\n",
       "      <th>family_status</th>\n",
       "      <th>income</th>\n",
       "      <th>order_id</th>\n",
       "      <th>order_number</th>\n",
       "      <th>...</th>\n",
       "      <th>busiest_period_of_day</th>\n",
       "      <th>max_order</th>\n",
       "      <th>loyalty_flag</th>\n",
       "      <th>user_spending</th>\n",
       "      <th>spending_flag</th>\n",
       "      <th>order_frequency</th>\n",
       "      <th>frequency_flag</th>\n",
       "      <th>region</th>\n",
       "      <th>exclusion_flag</th>\n",
       "      <th>customer_profile</th>\n",
       "    </tr>\n",
       "  </thead>\n",
       "  <tbody>\n",
       "    <tr>\n",
       "      <th>0</th>\n",
       "      <td>26711</td>\n",
       "      <td>Female</td>\n",
       "      <td>Missouri</td>\n",
       "      <td>48</td>\n",
       "      <td>2017-01-01</td>\n",
       "      <td>3</td>\n",
       "      <td>married</td>\n",
       "      <td>165665</td>\n",
       "      <td>518967</td>\n",
       "      <td>1</td>\n",
       "      <td>...</td>\n",
       "      <td>Average orders</td>\n",
       "      <td>8</td>\n",
       "      <td>New customer</td>\n",
       "      <td>7.988889</td>\n",
       "      <td>Low Spender</td>\n",
       "      <td>19.0</td>\n",
       "      <td>Regular customer</td>\n",
       "      <td>Midwest</td>\n",
       "      <td>Include</td>\n",
       "      <td>Other</td>\n",
       "    </tr>\n",
       "    <tr>\n",
       "      <th>1</th>\n",
       "      <td>26711</td>\n",
       "      <td>Female</td>\n",
       "      <td>Missouri</td>\n",
       "      <td>48</td>\n",
       "      <td>2017-01-01</td>\n",
       "      <td>3</td>\n",
       "      <td>married</td>\n",
       "      <td>165665</td>\n",
       "      <td>423547</td>\n",
       "      <td>2</td>\n",
       "      <td>...</td>\n",
       "      <td>Average orders</td>\n",
       "      <td>8</td>\n",
       "      <td>New customer</td>\n",
       "      <td>7.988889</td>\n",
       "      <td>Low Spender</td>\n",
       "      <td>19.0</td>\n",
       "      <td>Regular customer</td>\n",
       "      <td>Midwest</td>\n",
       "      <td>Include</td>\n",
       "      <td>Other</td>\n",
       "    </tr>\n",
       "    <tr>\n",
       "      <th>2</th>\n",
       "      <td>26711</td>\n",
       "      <td>Female</td>\n",
       "      <td>Missouri</td>\n",
       "      <td>48</td>\n",
       "      <td>2017-01-01</td>\n",
       "      <td>3</td>\n",
       "      <td>married</td>\n",
       "      <td>165665</td>\n",
       "      <td>2524893</td>\n",
       "      <td>3</td>\n",
       "      <td>...</td>\n",
       "      <td>Average orders</td>\n",
       "      <td>8</td>\n",
       "      <td>New customer</td>\n",
       "      <td>7.988889</td>\n",
       "      <td>Low Spender</td>\n",
       "      <td>19.0</td>\n",
       "      <td>Regular customer</td>\n",
       "      <td>Midwest</td>\n",
       "      <td>Include</td>\n",
       "      <td>Other</td>\n",
       "    </tr>\n",
       "    <tr>\n",
       "      <th>3</th>\n",
       "      <td>26711</td>\n",
       "      <td>Female</td>\n",
       "      <td>Missouri</td>\n",
       "      <td>48</td>\n",
       "      <td>2017-01-01</td>\n",
       "      <td>3</td>\n",
       "      <td>married</td>\n",
       "      <td>165665</td>\n",
       "      <td>2524893</td>\n",
       "      <td>3</td>\n",
       "      <td>...</td>\n",
       "      <td>Average orders</td>\n",
       "      <td>8</td>\n",
       "      <td>New customer</td>\n",
       "      <td>7.988889</td>\n",
       "      <td>Low Spender</td>\n",
       "      <td>19.0</td>\n",
       "      <td>Regular customer</td>\n",
       "      <td>Midwest</td>\n",
       "      <td>Include</td>\n",
       "      <td>Other</td>\n",
       "    </tr>\n",
       "    <tr>\n",
       "      <th>4</th>\n",
       "      <td>26711</td>\n",
       "      <td>Female</td>\n",
       "      <td>Missouri</td>\n",
       "      <td>48</td>\n",
       "      <td>2017-01-01</td>\n",
       "      <td>3</td>\n",
       "      <td>married</td>\n",
       "      <td>165665</td>\n",
       "      <td>2524893</td>\n",
       "      <td>3</td>\n",
       "      <td>...</td>\n",
       "      <td>Average orders</td>\n",
       "      <td>8</td>\n",
       "      <td>New customer</td>\n",
       "      <td>7.988889</td>\n",
       "      <td>Low Spender</td>\n",
       "      <td>19.0</td>\n",
       "      <td>Regular customer</td>\n",
       "      <td>Midwest</td>\n",
       "      <td>Include</td>\n",
       "      <td>Other</td>\n",
       "    </tr>\n",
       "  </tbody>\n",
       "</table>\n",
       "<p>5 rows × 33 columns</p>\n",
       "</div>"
      ],
      "text/plain": [
       "   user_id  gender     state  age date_joined  num_dependents family_status  \\\n",
       "0    26711  Female  Missouri   48  2017-01-01               3       married   \n",
       "1    26711  Female  Missouri   48  2017-01-01               3       married   \n",
       "2    26711  Female  Missouri   48  2017-01-01               3       married   \n",
       "3    26711  Female  Missouri   48  2017-01-01               3       married   \n",
       "4    26711  Female  Missouri   48  2017-01-01               3       married   \n",
       "\n",
       "   income  order_id  order_number  ...  busiest_period_of_day  max_order  \\\n",
       "0  165665    518967             1  ...         Average orders          8   \n",
       "1  165665    423547             2  ...         Average orders          8   \n",
       "2  165665   2524893             3  ...         Average orders          8   \n",
       "3  165665   2524893             3  ...         Average orders          8   \n",
       "4  165665   2524893             3  ...         Average orders          8   \n",
       "\n",
       "   loyalty_flag user_spending  spending_flag  order_frequency  \\\n",
       "0  New customer      7.988889    Low Spender             19.0   \n",
       "1  New customer      7.988889    Low Spender             19.0   \n",
       "2  New customer      7.988889    Low Spender             19.0   \n",
       "3  New customer      7.988889    Low Spender             19.0   \n",
       "4  New customer      7.988889    Low Spender             19.0   \n",
       "\n",
       "     frequency_flag   region  exclusion_flag  customer_profile  \n",
       "0  Regular customer  Midwest         Include             Other  \n",
       "1  Regular customer  Midwest         Include             Other  \n",
       "2  Regular customer  Midwest         Include             Other  \n",
       "3  Regular customer  Midwest         Include             Other  \n",
       "4  Regular customer  Midwest         Include             Other  \n",
       "\n",
       "[5 rows x 33 columns]"
      ]
     },
     "execution_count": 26,
     "metadata": {},
     "output_type": "execute_result"
    }
   ],
   "source": [
    "cust_ordsmerge.head()"
   ]
  },
  {
   "cell_type": "code",
   "execution_count": 27,
   "id": "35b45fb9-9326-45b5-8087-6006e2590be0",
   "metadata": {},
   "outputs": [
    {
     "data": {
      "text/plain": [
       "age_group\n",
       "Senior          11067255\n",
       "other            9667558\n",
       "Young Parent     8097045\n",
       "Single Adult     3573001\n",
       "Name: count, dtype: int64"
      ]
     },
     "execution_count": 27,
     "metadata": {},
     "output_type": "execute_result"
    }
   ],
   "source": [
    "#Create Categories age variable\n",
    "result = []\n",
    "for age in cust_ordsmerge['age']: \n",
    "    if age >= 18 and age <= 24:\n",
    "        result.append('Single Adult')\n",
    "    elif age >= 25 and age <= 40:\n",
    "        result.append('Young Parent')\n",
    "    elif age >= 60:\n",
    "        result.append('Senior')\n",
    "    else:\n",
    "        result.append('other')\n",
    "\n",
    "# Adding age_group column and assigning the results\n",
    "cust_ordsmerge['age_group'] = result \n",
    "cust_ordsmerge['age_group'].value_counts()"
   ]
  },
  {
   "cell_type": "code",
   "execution_count": 28,
   "id": "33925e99-7f8c-464b-ba64-db06721b42ca",
   "metadata": {},
   "outputs": [
    {
     "data": {
      "image/png": "[encoded data removed]",
      "text/plain": [
       "<Figure size 640x480 with 1 Axes>"
      ]
     },
     "metadata": {},
     "output_type": "display_data"
    }
   ],
   "source": [
    "# Calculate the count of each age group\n",
    "age_group_counts = cust_ordsmerge['age_group'].value_counts()\n",
    "\n",
    "# Create a pie chart\n",
    "fig, ax = plt.subplots()\n",
    "age_group_counts.plot.pie(autopct='%1.1f%%', startangle=90, ax=ax, colors=['skyblue', 'lightgreen', 'coral', 'lightyellow'])\n",
    "\n",
    "# Set chart properties\n",
    "ax.set_ylabel('')  # Remove the default y-label\n",
    "ax.set_title('Proportion of Age Groups')\n",
    "\n",
    "# Save the figure to a file\n",
    "plt.savefig(os.path.join(path, '04 Analysis', 'Visualizations', 'pie_proportion_of_age_groups.png'))\n",
    "\n",
    "# Show the plot if running interactively\n",
    "plt.show()"
   ]
  },
  {
   "cell_type": "code",
   "execution_count": 29,
   "id": "b1dc56ac-cf1d-40b5-b519-cc6f6f771fa4",
   "metadata": {},
   "outputs": [
    {
     "data": {
      "text/plain": [
       "income_group\n",
       "high income        14814766\n",
       "moderate income    13996010\n",
       "low income          3594083\n",
       "Name: count, dtype: int64"
      ]
     },
     "execution_count": 29,
     "metadata": {},
     "output_type": "execute_result"
    }
   ],
   "source": [
    "# Create income Categories\n",
    "result = []\n",
    "for income in cust_ordsmerge['income']: \n",
    "    if income <= 49999:\n",
    "        result.append('low income')\n",
    "    elif income>=50000 and income<=99999:\n",
    "        result.append('moderate income')\n",
    "    elif income>=100000:\n",
    "        result.append('high income')\n",
    "\n",
    "#adding income_group column and assigning the results\n",
    "cust_ordsmerge['income_group'] = result \n",
    "cust_ordsmerge['income_group'].value_counts()"
   ]
  },
  {
   "cell_type": "code",
   "execution_count": 30,
   "id": "65d24f72-58e3-418a-ba11-d18f5c16efc7",
   "metadata": {},
   "outputs": [
    {
     "data": {
      "image/png": "[encoded data removed]",
      "text/plain": [
       "<Figure size 640x480 with 1 Axes>"
      ]
     },
     "metadata": {},
     "output_type": "display_data"
    }
   ],
   "source": [
    "# Create a grouped bar chart\n",
    "sns.countplot(data=cust_ordsmerge, x='age_group', hue='income_group', palette='viridis')\n",
    "\n",
    "# Set chart labels and title\n",
    "plt.title('Income Range Distribution within Age Groups')\n",
    "plt.xlabel('Age Group')\n",
    "plt.ylabel('Count')\n",
    "plt.legend(title='Income Range')\n",
    "plt.xticks(rotation=45)\n",
    "\n",
    "# Save the figure to a file\n",
    "output_path = os.path.join(path, '04 Analysis', 'Visualizations', 'grouped_bar_age_income_distribution.png')\n",
    "plt.savefig(output_path, bbox_inches='tight')  # Save the plot\n",
    "\n",
    "# Show the plot\n",
    "plt.show()"
   ]
  },
  {
   "cell_type": "code",
   "execution_count": 31,
   "id": "0ab962df-9c03-4567-8d36-7bc338ad1804",
   "metadata": {},
   "outputs": [
    {
     "data": {
      "text/plain": [
       "dependents_category\n",
       "small     16178607\n",
       "large      8135109\n",
       "medium     8091143\n",
       "Name: count, dtype: int64"
      ]
     },
     "execution_count": 31,
     "metadata": {},
     "output_type": "execute_result"
    }
   ],
   "source": [
    "# Create dependents categories\n",
    "result = []\n",
    "\n",
    "for dependents in cust_ordsmerge['num_dependents']: \n",
    "    if dependents <= 1:\n",
    "        result.append('small')\n",
    "    elif dependents == 2:\n",
    "        result.append('medium')\n",
    "    elif dependents >= 3:\n",
    "        result.append('large')\n",
    "    else:\n",
    "        result.append('No data')\n",
    "\n",
    "cust_ordsmerge['dependents_category'] = result\n",
    "cust_ordsmerge['dependents_category'].value_counts()"
   ]
  },
  {
   "cell_type": "code",
   "execution_count": 32,
   "id": "6af21359-e60d-4526-bf4e-1e651254d777",
   "metadata": {},
   "outputs": [
    {
     "name": "stderr",
     "output_type": "stream",
     "text": [
      "C:\\Users\\north\\AppData\\Local\\Temp\\ipykernel_9236\\4170565186.py:3: FutureWarning: \n",
      "\n",
      "Passing `palette` without assigning `hue` is deprecated and will be removed in v0.14.0. Assign the `y` variable to `hue` and set `legend=False` for the same effect.\n",
      "\n",
      "  ax = sns.countplot(data=cust_ordsmerge, y='dependents_category', palette='viridis')\n"
     ]
    },
    {
     "data": {
      "image/png": "[encoded data removed]",
      "text/plain": [
       "<Figure size 1000x600 with 1 Axes>"
      ]
     },
     "metadata": {},
     "output_type": "display_data"
    }
   ],
   "source": [
    "# Create a horizontal bar chart\n",
    "plt.figure(figsize=(10, 6))\n",
    "ax = sns.countplot(data=cust_ordsmerge, y='dependents_category', palette='viridis')\n",
    "\n",
    "# Add annotations on the bars\n",
    "for p in ax.patches:\n",
    "    width = p.get_width()\n",
    "    ax.annotate(f'{width}', \n",
    "                xy=(width, p.get_y() + p.get_height() / 2), \n",
    "                xytext=(5, 0), \n",
    "                textcoords=\"offset points\", \n",
    "                ha='left', va='center')\n",
    "\n",
    "plt.title('Distribution of Dependents Categories')\n",
    "plt.xlabel('Count')\n",
    "plt.ylabel('Dependents Category')\n",
    "\n",
    "# Save the figure to a file\n",
    "output_path = os.path.join(path, '04 Analysis', 'Visualizations', 'horizontal_bar_dependents_distribution.png')\n",
    "plt.savefig(output_path, bbox_inches='tight')\n",
    "\n",
    "plt.show()\n"
   ]
  },
  {
   "cell_type": "markdown",
   "id": "ebcfdfc4-0066-4321-86e3-d62318957466",
   "metadata": {},
   "source": [
    "**Aggregate the max, mean, and min variables on a customer-profile level for usage frequency and expenditure**"
   ]
  },
  {
   "cell_type": "code",
   "execution_count": 34,
   "id": "8a58e6f8-1da7-4897-9f52-47dde7c24ef7",
   "metadata": {},
   "outputs": [],
   "source": [
    "# Aggregating max, mean, and min for 'order_frequency' and 'user_spending'\n",
    "aggregated_df = cust_ordsmerge.groupby('age_group').agg({\n",
    "    'order_frequency': ['max', 'mean', 'min'],\n",
    "    'user_spending': ['max', 'mean', 'min']\n",
    "}).reset_index()\n"
   ]
  },
  {
   "cell_type": "code",
   "execution_count": 35,
   "id": "8a9687b5-d8bf-438e-aea6-4bfa332f0d16",
   "metadata": {},
   "outputs": [
    {
     "data": {
      "text/html": [
       "<div>\n",
       "<style scoped>\n",
       "    .dataframe tbody tr th:only-of-type {\n",
       "        vertical-align: middle;\n",
       "    }\n",
       "\n",
       "    .dataframe tbody tr th {\n",
       "        vertical-align: top;\n",
       "    }\n",
       "\n",
       "    .dataframe thead tr th {\n",
       "        text-align: left;\n",
       "    }\n",
       "</style>\n",
       "<table border=\"1\" class=\"dataframe\">\n",
       "  <thead>\n",
       "    <tr>\n",
       "      <th></th>\n",
       "      <th>age_group</th>\n",
       "      <th colspan=\"3\" halign=\"left\">order_frequency</th>\n",
       "      <th colspan=\"3\" halign=\"left\">user_spending</th>\n",
       "    </tr>\n",
       "    <tr>\n",
       "      <th></th>\n",
       "      <th></th>\n",
       "      <th>max</th>\n",
       "      <th>mean</th>\n",
       "      <th>min</th>\n",
       "      <th>max</th>\n",
       "      <th>mean</th>\n",
       "      <th>min</th>\n",
       "    </tr>\n",
       "  </thead>\n",
       "  <tbody>\n",
       "    <tr>\n",
       "      <th>0</th>\n",
       "      <td>Senior</td>\n",
       "      <td>30.0</td>\n",
       "      <td>10.387257</td>\n",
       "      <td>0.0</td>\n",
       "      <td>23.200000</td>\n",
       "      <td>7.795309</td>\n",
       "      <td>1.0</td>\n",
       "    </tr>\n",
       "    <tr>\n",
       "      <th>1</th>\n",
       "      <td>Single Adult</td>\n",
       "      <td>30.0</td>\n",
       "      <td>10.357888</td>\n",
       "      <td>0.0</td>\n",
       "      <td>16.700000</td>\n",
       "      <td>7.790869</td>\n",
       "      <td>1.1</td>\n",
       "    </tr>\n",
       "    <tr>\n",
       "      <th>2</th>\n",
       "      <td>Young Parent</td>\n",
       "      <td>30.0</td>\n",
       "      <td>10.412491</td>\n",
       "      <td>0.0</td>\n",
       "      <td>18.233333</td>\n",
       "      <td>7.784655</td>\n",
       "      <td>1.0</td>\n",
       "    </tr>\n",
       "    <tr>\n",
       "      <th>3</th>\n",
       "      <td>other</td>\n",
       "      <td>30.0</td>\n",
       "      <td>10.412178</td>\n",
       "      <td>0.0</td>\n",
       "      <td>20.114286</td>\n",
       "      <td>7.791416</td>\n",
       "      <td>1.0</td>\n",
       "    </tr>\n",
       "  </tbody>\n",
       "</table>\n",
       "</div>"
      ],
      "text/plain": [
       "      age_group order_frequency                 user_spending               \n",
       "                            max       mean  min           max      mean  min\n",
       "0        Senior            30.0  10.387257  0.0     23.200000  7.795309  1.0\n",
       "1  Single Adult            30.0  10.357888  0.0     16.700000  7.790869  1.1\n",
       "2  Young Parent            30.0  10.412491  0.0     18.233333  7.784655  1.0\n",
       "3         other            30.0  10.412178  0.0     20.114286  7.791416  1.0"
      ]
     },
     "execution_count": 35,
     "metadata": {},
     "output_type": "execute_result"
    }
   ],
   "source": [
    "aggregated_df"
   ]
  },
  {
   "cell_type": "markdown",
   "id": "f8f4b140-2f70-4657-b88e-46475c844644",
   "metadata": {},
   "source": [
    "**Compare your customer profiles with regions and departments**"
   ]
  },
  {
   "cell_type": "code",
   "execution_count": 37,
   "id": "673ae96d-f6df-47ce-8efa-a038a176773c",
   "metadata": {},
   "outputs": [
    {
     "data": {
      "text/html": [
       "<div>\n",
       "<style scoped>\n",
       "    .dataframe tbody tr th:only-of-type {\n",
       "        vertical-align: middle;\n",
       "    }\n",
       "\n",
       "    .dataframe tbody tr th {\n",
       "        vertical-align: top;\n",
       "    }\n",
       "\n",
       "    .dataframe thead th {\n",
       "        text-align: right;\n",
       "    }\n",
       "</style>\n",
       "<table border=\"1\" class=\"dataframe\">\n",
       "  <thead>\n",
       "    <tr style=\"text-align: right;\">\n",
       "      <th></th>\n",
       "      <th>user_id</th>\n",
       "      <th>gender</th>\n",
       "      <th>state</th>\n",
       "      <th>age</th>\n",
       "      <th>date_joined</th>\n",
       "      <th>num_dependents</th>\n",
       "      <th>family_status</th>\n",
       "      <th>income</th>\n",
       "      <th>order_id</th>\n",
       "      <th>order_number</th>\n",
       "      <th>...</th>\n",
       "      <th>user_spending</th>\n",
       "      <th>spending_flag</th>\n",
       "      <th>order_frequency</th>\n",
       "      <th>frequency_flag</th>\n",
       "      <th>region</th>\n",
       "      <th>exclusion_flag</th>\n",
       "      <th>customer_profile</th>\n",
       "      <th>age_group</th>\n",
       "      <th>income_group</th>\n",
       "      <th>dependents_category</th>\n",
       "    </tr>\n",
       "  </thead>\n",
       "  <tbody>\n",
       "    <tr>\n",
       "      <th>0</th>\n",
       "      <td>26711</td>\n",
       "      <td>Female</td>\n",
       "      <td>Missouri</td>\n",
       "      <td>48</td>\n",
       "      <td>2017-01-01</td>\n",
       "      <td>3</td>\n",
       "      <td>married</td>\n",
       "      <td>165665</td>\n",
       "      <td>518967</td>\n",
       "      <td>1</td>\n",
       "      <td>...</td>\n",
       "      <td>7.988889</td>\n",
       "      <td>Low Spender</td>\n",
       "      <td>19.0</td>\n",
       "      <td>Regular customer</td>\n",
       "      <td>Midwest</td>\n",
       "      <td>Include</td>\n",
       "      <td>Other</td>\n",
       "      <td>other</td>\n",
       "      <td>high income</td>\n",
       "      <td>large</td>\n",
       "    </tr>\n",
       "    <tr>\n",
       "      <th>1</th>\n",
       "      <td>26711</td>\n",
       "      <td>Female</td>\n",
       "      <td>Missouri</td>\n",
       "      <td>48</td>\n",
       "      <td>2017-01-01</td>\n",
       "      <td>3</td>\n",
       "      <td>married</td>\n",
       "      <td>165665</td>\n",
       "      <td>423547</td>\n",
       "      <td>2</td>\n",
       "      <td>...</td>\n",
       "      <td>7.988889</td>\n",
       "      <td>Low Spender</td>\n",
       "      <td>19.0</td>\n",
       "      <td>Regular customer</td>\n",
       "      <td>Midwest</td>\n",
       "      <td>Include</td>\n",
       "      <td>Other</td>\n",
       "      <td>other</td>\n",
       "      <td>high income</td>\n",
       "      <td>large</td>\n",
       "    </tr>\n",
       "    <tr>\n",
       "      <th>2</th>\n",
       "      <td>26711</td>\n",
       "      <td>Female</td>\n",
       "      <td>Missouri</td>\n",
       "      <td>48</td>\n",
       "      <td>2017-01-01</td>\n",
       "      <td>3</td>\n",
       "      <td>married</td>\n",
       "      <td>165665</td>\n",
       "      <td>2524893</td>\n",
       "      <td>3</td>\n",
       "      <td>...</td>\n",
       "      <td>7.988889</td>\n",
       "      <td>Low Spender</td>\n",
       "      <td>19.0</td>\n",
       "      <td>Regular customer</td>\n",
       "      <td>Midwest</td>\n",
       "      <td>Include</td>\n",
       "      <td>Other</td>\n",
       "      <td>other</td>\n",
       "      <td>high income</td>\n",
       "      <td>large</td>\n",
       "    </tr>\n",
       "    <tr>\n",
       "      <th>3</th>\n",
       "      <td>26711</td>\n",
       "      <td>Female</td>\n",
       "      <td>Missouri</td>\n",
       "      <td>48</td>\n",
       "      <td>2017-01-01</td>\n",
       "      <td>3</td>\n",
       "      <td>married</td>\n",
       "      <td>165665</td>\n",
       "      <td>2524893</td>\n",
       "      <td>3</td>\n",
       "      <td>...</td>\n",
       "      <td>7.988889</td>\n",
       "      <td>Low Spender</td>\n",
       "      <td>19.0</td>\n",
       "      <td>Regular customer</td>\n",
       "      <td>Midwest</td>\n",
       "      <td>Include</td>\n",
       "      <td>Other</td>\n",
       "      <td>other</td>\n",
       "      <td>high income</td>\n",
       "      <td>large</td>\n",
       "    </tr>\n",
       "    <tr>\n",
       "      <th>4</th>\n",
       "      <td>26711</td>\n",
       "      <td>Female</td>\n",
       "      <td>Missouri</td>\n",
       "      <td>48</td>\n",
       "      <td>2017-01-01</td>\n",
       "      <td>3</td>\n",
       "      <td>married</td>\n",
       "      <td>165665</td>\n",
       "      <td>2524893</td>\n",
       "      <td>3</td>\n",
       "      <td>...</td>\n",
       "      <td>7.988889</td>\n",
       "      <td>Low Spender</td>\n",
       "      <td>19.0</td>\n",
       "      <td>Regular customer</td>\n",
       "      <td>Midwest</td>\n",
       "      <td>Include</td>\n",
       "      <td>Other</td>\n",
       "      <td>other</td>\n",
       "      <td>high income</td>\n",
       "      <td>large</td>\n",
       "    </tr>\n",
       "  </tbody>\n",
       "</table>\n",
       "<p>5 rows × 36 columns</p>\n",
       "</div>"
      ],
      "text/plain": [
       "   user_id  gender     state  age date_joined  num_dependents family_status  \\\n",
       "0    26711  Female  Missouri   48  2017-01-01               3       married   \n",
       "1    26711  Female  Missouri   48  2017-01-01               3       married   \n",
       "2    26711  Female  Missouri   48  2017-01-01               3       married   \n",
       "3    26711  Female  Missouri   48  2017-01-01               3       married   \n",
       "4    26711  Female  Missouri   48  2017-01-01               3       married   \n",
       "\n",
       "   income  order_id  order_number  ...  user_spending  spending_flag  \\\n",
       "0  165665    518967             1  ...       7.988889    Low Spender   \n",
       "1  165665    423547             2  ...       7.988889    Low Spender   \n",
       "2  165665   2524893             3  ...       7.988889    Low Spender   \n",
       "3  165665   2524893             3  ...       7.988889    Low Spender   \n",
       "4  165665   2524893             3  ...       7.988889    Low Spender   \n",
       "\n",
       "   order_frequency    frequency_flag   region  exclusion_flag  \\\n",
       "0             19.0  Regular customer  Midwest         Include   \n",
       "1             19.0  Regular customer  Midwest         Include   \n",
       "2             19.0  Regular customer  Midwest         Include   \n",
       "3             19.0  Regular customer  Midwest         Include   \n",
       "4             19.0  Regular customer  Midwest         Include   \n",
       "\n",
       "   customer_profile age_group  income_group  dependents_category  \n",
       "0             Other     other   high income                large  \n",
       "1             Other     other   high income                large  \n",
       "2             Other     other   high income                large  \n",
       "3             Other     other   high income                large  \n",
       "4             Other     other   high income                large  \n",
       "\n",
       "[5 rows x 36 columns]"
      ]
     },
     "execution_count": 37,
     "metadata": {},
     "output_type": "execute_result"
    }
   ],
   "source": [
    "cust_ordsmerge.head()"
   ]
  },
  {
   "cell_type": "code",
   "execution_count": 38,
   "id": "99339be4-d12b-4383-a60c-8467c6b40099",
   "metadata": {},
   "outputs": [],
   "source": [
    "# Crosstab for age_group profile and regions\n",
    "profile_region = pd.crosstab(cust_ordsmerge['age_group'], cust_ordsmerge['region'])\n",
    "\n",
    "# Crosstab for age_group profile and department\n",
    "profile_department = pd.crosstab(cust_ordsmerge['age_group'], cust_ordsmerge['department_id'])\n"
   ]
  },
  {
   "cell_type": "code",
   "execution_count": 39,
   "id": "d384ba95-f6d7-4d14-b280-31963491096a",
   "metadata": {},
   "outputs": [
    {
     "data": {
      "image/png": "[encoded data removed]",
      "text/plain": [
       "<Figure size 1000x600 with 1 Axes>"
      ]
     },
     "metadata": {},
     "output_type": "display_data"
    }
   ],
   "source": [
    "# Create a bar chart for age groups by region comparison\n",
    "plt.figure(figsize=(10, 6))\n",
    "sns.countplot(data=cust_ordsmerge, x='region', hue='age_group', palette='Set2')\n",
    "\n",
    "# Set chart labels and title\n",
    "plt.title('Age Group by Region')\n",
    "plt.xlabel('Region')\n",
    "plt.ylabel('Count')\n",
    "plt.legend(title='Age Group')\n",
    "plt.xticks(rotation=45)\n",
    "\n",
    "plt.savefig(os.path.join(path, '04 Analysis', 'Visualizations', 'profiles_by_region.png'), bbox_inches='tight')\n",
    "\n",
    "# Show the plot\n",
    "plt.show()\n"
   ]
  },
  {
   "cell_type": "code",
   "execution_count": 40,
   "id": "37638c8a-64b5-4fd1-a9b8-31187a2c127d",
   "metadata": {},
   "outputs": [],
   "source": [
    "cust_ordsmerge.to_pickle(os.path.join(path, '02 Data','Prepared Data', 'custords_merge_final.pkl'))"
   ]
  }
 ],
 "metadata": {
  "kernelspec": {
   "display_name": "Python 3 (ipykernel)",
   "language": "python",
   "name": "python3"
  },
  "language_info": {
   "codemirror_mode": {
    "name": "ipython",
    "version": 3
   },
   "file_extension": ".py",
   "mimetype": "text/x-python",
   "name": "python",
   "nbconvert_exporter": "python",
   "pygments_lexer": "ipython3",
   "version": "3.12.4"
  }
 },
 "nbformat": 4,
 "nbformat_minor": 5
}
